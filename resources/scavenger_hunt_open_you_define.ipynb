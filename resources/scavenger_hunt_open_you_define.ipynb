{
 "cells": [
  {
   "cell_type": "markdown",
   "id": "6511ba75-2437-4a02-be59-525fbfcfdcc2",
   "metadata": {},
   "source": [
    "# Scavenger Hunt - Open, You Define!!\n",
    "\n",
    "For this Scavenger Hunt, **you can define the hunt yourself!**  For example, you might have **your own list of questions** about Quantum Computing that you have been curious about, that you have been wanting to research and answer, or for which you would like to interact with someone and get their answer.  In this notebook you can **enter your own questions**, and then search for answers on the QApplications, QFundamentals, and QEcosystem tabs, or use your favorite search engine, or reach out to folkx that you know or on LinkedIn with your questions.  **Create as many or as few questions as you like**.  These will count towards the Certificates just like the questions in the other Scavenger Hunts.\n",
    "\n",
    "**Note:** You can add your questions and answers to this Jupyter notebook using Markdown in the answer cells, or you can create a separate document with your answers, whichever you find easiest.   "
   ]
  },
  {
   "cell_type": "markdown",
   "id": "62171460-827d-4b17-8e5d-ff303156d123",
   "metadata": {},
   "source": [
    "## Q1. Quantum Applications"
   ]
  },
  {
   "cell_type": "markdown",
   "id": "4825339e-b006-4783-9dae-f0df989df5e9",
   "metadata": {},
   "source": [
    "Answer: (fill-in)"
   ]
  },
  {
   "cell_type": "markdown",
   "id": "354019bc-dc96-4343-95fc-498cf2a53fd4",
   "metadata": {},
   "source": [
    "## Q2. Quantum Fundamentals"
   ]
  },
  {
   "cell_type": "markdown",
   "id": "8ea081b0-2745-48b5-85e9-fa461b23c46f",
   "metadata": {},
   "source": [
    "Answer: (fill-in)"
   ]
  },
  {
   "cell_type": "markdown",
   "id": "f9dc3be8-fd03-43d2-830f-ad7ed5c6f2e9",
   "metadata": {},
   "source": [
    "## Q3. Quantum Ecosystem"
   ]
  },
  {
   "cell_type": "markdown",
   "id": "c45431b0-3044-4a1d-932e-68c1db7e30b0",
   "metadata": {},
   "source": [
    "Answer: (fill-in)"
   ]
  },
  {
   "cell_type": "markdown",
   "id": "578ec149-94b1-4e88-b0c3-a0be36954784",
   "metadata": {},
   "source": [
    "## Q4. You Choose"
   ]
  },
  {
   "cell_type": "markdown",
   "id": "6d1a1378-b302-4d45-8f61-2701bf0c4156",
   "metadata": {},
   "source": [
    "Answer: (fill-in)"
   ]
  },
  {
   "cell_type": "markdown",
   "id": "3c4782b7-29e5-4162-97e9-2df9d6f80a3f",
   "metadata": {},
   "source": [
    "## Q5. You Choose"
   ]
  },
  {
   "cell_type": "markdown",
   "id": "199741b5-547f-4ecc-aa70-98027f6569fc",
   "metadata": {},
   "source": [
    "Answer: (fill-in)"
   ]
  },
  {
   "cell_type": "markdown",
   "id": "b11b69c5-8726-451d-8ca3-a0e5be372714",
   "metadata": {},
   "source": [
    "## Q6. You Choose"
   ]
  },
  {
   "cell_type": "markdown",
   "id": "13190fc8-8e62-40bb-a05f-1b7b342fc7fe",
   "metadata": {},
   "source": [
    "Answer: (fill-in)"
   ]
  },
  {
   "cell_type": "markdown",
   "id": "14cd420b-d81b-4bea-85a2-6bbcf4df51a4",
   "metadata": {},
   "source": [
    "## Q7. You Choose"
   ]
  },
  {
   "cell_type": "markdown",
   "id": "40587c67-e678-4673-bd5f-50a010b2012a",
   "metadata": {},
   "source": [
    "Answer: (fill-in)"
   ]
  },
  {
   "cell_type": "markdown",
   "id": "c65eee77-c76c-4727-ade3-0b68780a4193",
   "metadata": {},
   "source": [
    "## Q8. You Choose"
   ]
  },
  {
   "cell_type": "markdown",
   "id": "05937273-87fc-4491-8c95-66c5fffe8447",
   "metadata": {},
   "source": [
    "Answer: (fill-in)"
   ]
  },
  {
   "cell_type": "markdown",
   "id": "edd69380-25fc-42b4-915d-686033ca9d0a",
   "metadata": {},
   "source": [
    "## Q9. You Choose"
   ]
  },
  {
   "cell_type": "markdown",
   "id": "c4e11659-94ad-43bd-b6a5-db41543c97e3",
   "metadata": {},
   "source": [
    "Answer: (fill-in)"
   ]
  },
  {
   "cell_type": "markdown",
   "id": "d596e01d-cb89-40e7-85b8-1c98b6c339b5",
   "metadata": {},
   "source": [
    "## Q10. You Choose"
   ]
  },
  {
   "cell_type": "markdown",
   "id": "71ffa0f2-6c1b-45c0-b590-b9dc4739c76f",
   "metadata": {},
   "source": [
    "Answer: (fill-in)"
   ]
  },
  {
   "cell_type": "code",
   "execution_count": null,
   "id": "97017244-72b0-45ee-b6b9-8f255c96bbcb",
   "metadata": {},
   "outputs": [],
   "source": []
  }
 ],
 "metadata": {
  "kernelspec": {
   "display_name": "qk102_py312",
   "language": "python",
   "name": "qk102_py312"
  },
  "language_info": {
   "codemirror_mode": {
    "name": "ipython",
    "version": 3
   },
   "file_extension": ".py",
   "mimetype": "text/x-python",
   "name": "python",
   "nbconvert_exporter": "python",
   "pygments_lexer": "ipython3",
   "version": "3.12.3"
  }
 },
 "nbformat": 4,
 "nbformat_minor": 5
}
