{
 "cells": [
  {
   "cell_type": "markdown",
   "id": "442b2228-9a7f-4b49-9eed-b48f48d27d39",
   "metadata": {},
   "source": [
    "# Scavenger Hunt - Ecosystem\n",
    "\n",
    "**Note:** for the questions below, you can hunt for the answers in the links embedded in the questions, by looking through the information on the QEcosystem tab, or by using your favorite search engine.  You can add your answers to this Jupyter notebook using Markdown in the answer cells, or you can create a separate document with your answers, whatever you find easiest.   "
   ]
  },
  {
   "cell_type": "markdown",
   "id": "a54557c3-2b91-49a4-b1cf-4208c4387f58",
   "metadata": {},
   "source": [
    "##### 1. How much money has been spent on quantum technologies (such as q computing, communication and sensing) in the world in the last 5 years (provide references, data sources)? Feel free to add any regions of interest.  If this question is too long, feel free to address just a portion of it, as it suits your interest."
   ]
  },
  {
   "cell_type": "markdown",
   "id": "0d500332-88a2-4ad9-9ac9-9c239a2c791c",
   "metadata": {},
   "source": [
    "| Entity    | Funding Amount (USD) | Region        | Technology\n",
    "| --------  | -------------------- | ----------     | ---------\n",
    "| Gov       | 0                    | World          | Quantum\n",
    "| VC        | 0                    | World          | Quantum\n",
    "| Other     | 0                    | World          | Quantum\n",
    "| Gov       | 0                    | USA            | Quantum\n",
    "| VC        | 0                    | USA            | Quantum\n",
    "| Other     | 0                    | USA            | Quantum\n",
    "| Gov       | 0                    | IL             | Quantum\n",
    "| VC        | 0                    | IL             | Quantum\n",
    "| Other     | 0                    | IL             | Quantum\n",
    "| Gov       | 0                    | WA             | Quantum\n",
    "| VC        | 0                    | WA             | Quantum\n",
    "| Other     | 0                    | WA             | Quantum\n",
    "| Gov       | 0                    | China          | Quantum\n",
    "| VC        | 0                    | China          | Quantum\n",
    "| Other     | 0                    | China          | Quantum\n",
    "| Gov       | 0                    | Europe         | Quantum\n",
    "| VC        | 0                    | Europe         | Quantum\n",
    "| Other     | 0                    | Europe         | Quantum\n",
    "| Gov       | 0                    | Japan          | Quantum\n",
    "| VC        | 0                    | Japan          | Quantum\n",
    "| Other     | 0                    | Japan          | Quantum\n"
   ]
  },
  {
   "cell_type": "markdown",
   "id": "26b3ddec-937e-4496-99f4-4b8ffab44e02",
   "metadata": {},
   "source": [
    "##### 2. How much money has been spent on AI technologies in the world in the last 5 years (provide references, data sources)?  Similarly to the above, if this question is too long, feel free to choose and address just a subset that interests you.  "
   ]
  },
  {
   "cell_type": "markdown",
   "id": "0378058a-1357-418b-adf2-9581ef5fa873",
   "metadata": {},
   "source": [
    "| Entity    | Funding Amount (USD) | Region        | Technology\n",
    "| --------  | -------------------- | ----------     | ---------\n",
    "| Gov       | 0                    | World          | AI\n",
    "| VC        | 0                    | World          | AI\n",
    "| Other     | 0                    | World          | AI\n",
    "| Gov       | 0                    | USA            | AI\n",
    "| VC        | 0                    | USA            | AI\n",
    "| Other     | 0                    | USA            | AI\n",
    "| Gov       | 0                    | China          | AI\n",
    "| VC        | 0                    | China          | AI\n",
    "| Other     | 0                    | China          | AI\n",
    "| Gov       | 0                    | Europe         | AI\n",
    "| VC        | 0                    | Europe         | AI\n",
    "| Other     | 0                    | Europe         | AI\n",
    "| Gov       | 0                    | Japan          | AI\n",
    "| VC        | 0                    | Japan          | AI\n",
    "| Other     | 0                    | Japan          | AI\n"
   ]
  },
  {
   "cell_type": "markdown",
   "id": "b62b1abc-4049-4a4f-936b-b80ae8cc257c",
   "metadata": {},
   "source": [
    "##### 3. When and Where will IEEE Quantum Week be held in 2025 (QCE25)? "
   ]
  },
  {
   "cell_type": "markdown",
   "id": "860e2c43-9a3a-487f-8a59-26cece43369e",
   "metadata": {},
   "source": [
    "| Year   | # Registrants | Location             | Date\n",
    "| ------ | ------------- | -------------------- | --------\n",
    "| 2025   | n/a           | (fill-in)            | (fill-in)\n",
    "| 2024   | 1600+         | Montreal             | Sep 15-20\n",
    "| 2023   | 1350+         | Seattle              | Sep 17-22\n",
    "| 2022   | 1050+         | Broomfield, CO       | Sep 18-23    "
   ]
  },
  {
   "cell_type": "markdown",
   "id": "519ec275-a769-49e4-a204-1142de404cf0",
   "metadata": {},
   "source": [
    "##### 4. Who are the partners in the [Northwest Quantum Nexus](https://nwquantum.com/) (NQN)?  "
   ]
  },
  {
   "cell_type": "markdown",
   "id": "32e7df90-d0c5-4388-b5b4-cacfb3b16a64",
   "metadata": {},
   "source": [
    "partners: (fill-in)"
   ]
  },
  {
   "cell_type": "markdown",
   "id": "d7e3aad2-92ca-49ea-a84e-3caedd8f5ee9",
   "metadata": {},
   "source": [
    "##### 5. Qiskit YouTube Channel - in the video linked below, Ismael talks about quantum computing applied to help ML, and AI applied to help out quantum computing.  In what ways does Ismael mention that IBM is using AI to improve quantum computing?    \n",
    "[AI Enhanced Quantum Software: Quantum Crosstalk with Ismael Faro](https://www.youtube.com/watch?v=-xvw8DbeuAo), 23 min video"
   ]
  },
  {
   "cell_type": "markdown",
   "id": "b26b9f20-4fe1-47ea-b264-4ca16d2abec5",
   "metadata": {},
   "source": [
    "Answer: (fill-in)"
   ]
  },
  {
   "cell_type": "markdown",
   "id": "f337b8a1-862d-4fb4-9293-9fea056fc8c9",
   "metadata": {},
   "source": [
    "##### 6. What are some quantum computing start-ups around the world?  Identify their focus, and their location(s).  There are many QC startups, you can limit yourself to your 5 favorites.  One possible resource is the [Quantum Computing Report](https://quantumcomputingreport.com/) ."
   ]
  },
  {
   "cell_type": "markdown",
   "id": "04169fe0-4384-45b1-8657-750675bce2de",
   "metadata": {},
   "source": [
    "| Company             | Year Founded | Location(s)        | Focus\n",
    "| ------------------- | ------------ | ------------------ | ------------\n",
    "| (fill-in)           | (fill-in)    | (fill-in)          | (fill-in)\n",
    "| (fill-in)           | (fill-in)    | (fill-in)          | (fill-in)\n",
    "| (fill-in)           | (fill-in)    | (fill-in)          | (fill-in)\n",
    "| (fill-in)           | (fill-in)    | (fill-in)          | (fill-in)\n",
    "| (fill-in)           | (fill-in)    | (fill-in)          | (fill-in)\n"
   ]
  },
  {
   "cell_type": "markdown",
   "id": "7644eaa6-c3da-484d-9a2a-cb68dfbcbaf5",
   "metadata": {},
   "source": [
    "##### 7. The [CoMotion](https://comotion.uw.edu/) startup hub located on the University of Washington campus, licensed key electro-optic material patents to NLM Photonics and is the home of their US Headquarters.  [NLM Photonics](https://www.nlmphotonics.com/).  NLM Photonics identifies quantum computing as a possible application of their technology.  Briefly describe how their technology might be used for Quantum Computing. "
   ]
  },
  {
   "cell_type": "markdown",
   "id": "e8f60299-8511-478b-b0f2-5ddbb9139ae7",
   "metadata": {},
   "source": [
    "Answer: (fill-in)"
   ]
  },
  {
   "cell_type": "markdown",
   "id": "f45f82ed-1ff8-4caf-b4f5-d118b980be2e",
   "metadata": {},
   "source": [
    "##### 8. Where and When will the QIP conference be held in 2025 (QIP 2025)? "
   ]
  },
  {
   "cell_type": "markdown",
   "id": "c015fb45-84df-4f74-afb2-263262a37cea",
   "metadata": {},
   "source": [
    "Answer: (fill-in)"
   ]
  },
  {
   "cell_type": "markdown",
   "id": "93d5e791-ed02-4a73-9516-3dfb2eda2a7d",
   "metadata": {},
   "source": [
    "##### 9. Where and When will the next Q2B conference be held in 2024?  QCWare hosts these conferences and [posts the presentations on YouTube](https://www.youtube.com/qcware) a few weeks after the conference.   "
   ]
  },
  {
   "cell_type": "markdown",
   "id": "1cadf199-8923-4e5b-a3da-920975b9b288",
   "metadata": {},
   "source": [
    "Answer: (fill-in)"
   ]
  },
  {
   "cell_type": "markdown",
   "id": "6d409a77-c301-4b48-b8d5-d80a953cf343",
   "metadata": {},
   "source": [
    "##### 10. The [QTML Conference](https://qtml2024.org/) is coming soon to Melbourne, Australia.  On the home page for the conference, they list 12 topics that will be covered at the conference.  One of those topics is Benchmarking Quantum Machine Learning.  Briefly, describe what that refers to, and what people might be doing to achieve it. "
   ]
  },
  {
   "cell_type": "markdown",
   "id": "a3656418-cf21-46a7-8f71-fa5a9eb83959",
   "metadata": {},
   "source": [
    "Answer: (fill-in)"
   ]
  }
 ],
 "metadata": {
  "kernelspec": {
   "display_name": "qk102_py312",
   "language": "python",
   "name": "qk102_py312"
  },
  "language_info": {
   "codemirror_mode": {
    "name": "ipython",
    "version": 3
   },
   "file_extension": ".py",
   "mimetype": "text/x-python",
   "name": "python",
   "nbconvert_exporter": "python",
   "pygments_lexer": "ipython3",
   "version": "3.12.3"
  }
 },
 "nbformat": 4,
 "nbformat_minor": 5
}
