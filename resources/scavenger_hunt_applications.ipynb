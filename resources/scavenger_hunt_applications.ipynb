{
 "cells": [
  {
   "cell_type": "markdown",
   "id": "26892267-ddff-43cd-8347-039126788647",
   "metadata": {},
   "source": [
    "# Scavenger Hunt - Applications\n",
    "\n",
    "**Note:** for the questions below, you can hunt for the answers in the links embedded in the questions, by looking through the information on the QApplications tab, or by using your favorite search engine.  You can add your answers to this Jupyter notebook using Markdown in the answer cells, or you can create a separate document with your answers, whatever you find easiest.  "
   ]
  },
  {
   "cell_type": "markdown",
   "id": "869deb65-3234-46c6-8b07-9b7d91b4d0b3",
   "metadata": {},
   "source": [
    "#### 1. Quantum Utility\n",
    "\n",
    "At Q2BTokyo, Head of IBM Quantum, Jay Gambetta presented on [Harnessing Utility for Quantum Advantage](https://www.youtube.com/watch?app=desktop&v=1llyOy_rm0s), and mentioned [work done at the University of Washington by Roland Farrell](https://arxiv.org/pdf/2401.08044) in Martin Savage's lab.  \n",
    "\n",
    "Gambetta emphasized that Farrell's quantum simulations used 100+ physical qubits and 13k+ gates (on IBM’s 133-qubit Heron quantum computer ibm_torino).\n",
    "\n",
    "**How Does IBM define Quantum Utility?**\n",
    "\n",
    "In the abstract of Farrell's paper linked above, it is stated, \"Prospects for a near-term quantum advantage in simulations of\n",
    "hadron scattering are discussed.\"\n",
    "\n",
    "**How would you summarize that discussion about the prospects for a near-term quantum advantage in simulations of hadron scattering?\"**"
   ]
  },
  {
   "cell_type": "markdown",
   "id": "bd5b8fa4-09f9-4f42-8fd9-fe5da40d8403",
   "metadata": {},
   "source": [
    "Answer: (fill-in)"
   ]
  },
  {
   "cell_type": "markdown",
   "id": "c1aa418c-26cd-4c08-8eb4-d02ee369ecd9",
   "metadata": {},
   "source": [
    "#### 2. Will Quantum Computing be Useful for the Protein Folding Problem (i.e. 3D structure prediction)?  How does it look?\n",
    "\n",
    "You can check the QApplications tab for several links to related papers and articles.  \n",
    "\n",
    "**How good are the AlphaFold systems (classical machine learning)?  Are there any cases that they can't handle?**"
   ]
  },
  {
   "cell_type": "markdown",
   "id": "12d0b176-081c-4538-b3b8-e7eefa5743d1",
   "metadata": {},
   "source": [
    "Answer: (fill-in)"
   ]
  },
  {
   "cell_type": "markdown",
   "id": "95ec37e0-38c1-4cad-a14d-76a836ad39ce",
   "metadata": {},
   "source": [
    "#### 3. How Might Quantum Computing be Involved in Robots and Robotic Science?\n",
    "\n",
    "You can check the QApplications tab for a couple of links to related papers/articles."
   ]
  },
  {
   "cell_type": "markdown",
   "id": "efcf0c69-f541-4eb3-af5f-29947c9c3bf4",
   "metadata": {},
   "source": [
    "Answer: (fill-in)"
   ]
  },
  {
   "cell_type": "markdown",
   "id": "eb914ecb-5402-43d9-88cb-0352da9a8901",
   "metadata": {},
   "source": [
    "#### 4. Machine Learning with Quantum Computers and Benchmarking\n",
    "\n",
    "In the book by Schuld and Petruccione, *Machine Learning with Quantum Computers*, they mention that 2 of the 4 markers for meaningful Quantum Advantage in machine learning are **Performance** and **Speedup**, and state that in the early stage of quantum computing, we have to revert to theoretical arguments and small-scale simulations.    \n",
    "\n",
    "**Speaking of benchmarking, what kind of benchmarking do the tools Benchpress and Metriq provide for Quantum Computing?**"
   ]
  },
  {
   "cell_type": "markdown",
   "id": "59206230-ed7a-4670-ad3e-ed6e3d3461c8",
   "metadata": {},
   "source": [
    "Answer: (fill-in)"
   ]
  },
  {
   "cell_type": "markdown",
   "id": "a75f9a6e-acec-47f2-a052-2fc212d83108",
   "metadata": {},
   "source": [
    "#### 5. Can Quantum Computers Solve the Traveling Salesperson Problem (TSP) Efficiently?\n",
    "\n",
    "This question comes up a lot.  The TSP is an NP-hard problem.  \n",
    "\n",
    "You can check this article by **Simone Severini, from AWS/UCL**, [Quantum Computing and the Traveling Salesperson Problem: a tale of mystery and imagination (but mostly imagination)](https://www.linkedin.com/pulse/quantum-computing-traveling-salesperson-problem-tale-mystery-simone/).\n",
    "\n",
    "**Is it possible for a Quantum Computer to solve the TSP efficiently?  Is it possible for a Quantum Computer to outperform a classical computer on the TSP?  How do the classical and quantum approaches compare today in terms of efficiency?**\n"
   ]
  },
  {
   "cell_type": "markdown",
   "id": "81a7095b-62c1-48ca-b0d3-b2c384b68171",
   "metadata": {},
   "source": [
    "Answer: (fill-in)"
   ]
  },
  {
   "cell_type": "markdown",
   "id": "6b8f3b74-8feb-4545-b1fa-cd18787c38b5",
   "metadata": {},
   "source": [
    "#### 6. What kinds of problems can quantum computers be used to solve in terms of difficulty, and therefore, what might the applications be?\n",
    "\n",
    "In his paper, [Progress in quantum algorithms (PIQA)](https://math.mit.edu/~shor/papers/Progress.pdf), Peter Shor talks about problem spaces such as, NP-hard, NP, NP-complete, and P, and which of those seem to make the most sense for Quantum Computers.  He mentions in the PIQA paper that he includes some discussion of speeding-up polynomial problems in one of his papers in the PIQA's reference list. \n",
    "\n",
    "**This is not the typically described use case for quantum computers, but how might quantum computers speed-up problems in the P class?**\n"
   ]
  },
  {
   "cell_type": "markdown",
   "id": "8d9dc678-3133-4894-b558-7168b17a4866",
   "metadata": {},
   "source": [
    "Answer: (fill-in)"
   ]
  },
  {
   "cell_type": "markdown",
   "id": "0b20049b-63aa-484a-9dcf-2dd603fed700",
   "metadata": {},
   "source": [
    "#### 7. Resource Estimation: T States, CNOTs, and Beyond\n",
    "\n",
    "**Craig Gidney, from Google AI Quantum**, et al recently released [Magic state cultivation: growing T states as cheap as CNOT gates](https://arxiv.org/abs/2409.17595).\n",
    "\n",
    "On Twitter/X, Craig says, \"Been working on 'Magic state cultivation: growing T states as cheap as CNOT gates' all year. It's finally out: https://arxiv.org/abs/2409.17595  The reign of the T gate is coming to an end. It's now nearly the cost of a lattice surgery CNOT gate, and I bet there's more improvements yet. \n",
    "\n",
    "Over the past decade the expected cost of a T gate has gone from 1000 CNOTs to 2 CNOTs. And the CNOTs also got smaller.\n",
    "\n",
    "We got used to T gates being dominant. We estimated costs just by counting Ts. That time's over. The dominant costs are probably storage and routing now.\n",
    "\n",
    "Cultivation isn't done. The current floor at 1e-9 needs to move down another couple orders of magnitude to make it *really* enough on its own. But the writing's on the wall. Either physical qubits will improve, or cultivation will improve, or both. Distillation's over IMO.\"\n",
    "\n",
    "**What are t states in quantum computing?**  (You could ask Google AI this question.)\n",
    "\n",
    "**T-state distillation factories use a process called \"magic state distillation\" to create higher-quality T states.  What is magic state distillation?**"
   ]
  },
  {
   "cell_type": "markdown",
   "id": "f3152d0e-9e7a-4c65-b401-4a4496460a7f",
   "metadata": {},
   "source": [
    "Answer: (fill-in)"
   ]
  },
  {
   "cell_type": "markdown",
   "id": "35ee4544-6e7b-40e3-8054-3b527733f2b8",
   "metadata": {},
   "source": [
    "#### 8. How might Quantum Computers assist in making better Batteries?\n",
    "\n",
    "You can check the resources on the QApplications tab, and/or seek out your own."
   ]
  },
  {
   "cell_type": "markdown",
   "id": "0c812db9-0e46-4224-8652-e2bcbc492857",
   "metadata": {},
   "source": [
    "Answer: (fill-in) mention your reference(s)"
   ]
  },
  {
   "cell_type": "markdown",
   "id": "aa23adf1-a90e-403b-ac7f-ab1324f81295",
   "metadata": {},
   "source": [
    "#### 9. How might Quantum Computers assist with issues related to Climate Change?\n",
    "\n",
    "You can check the resources on the QApplications tab, and/or seek out your own resources."
   ]
  },
  {
   "cell_type": "markdown",
   "id": "79b4b95d-ec0d-46cc-8376-508a848cc7c1",
   "metadata": {},
   "source": [
    "Answer: (fill-in) mention your reference(s)"
   ]
  },
  {
   "cell_type": "markdown",
   "id": "60cefd91-17dc-4caa-bf65-71532c9b684b",
   "metadata": {},
   "source": [
    "#### 10. Quantifying Quantumness in Quantum Computations\n",
    "\n",
    "Charlie Wood wrote, [The Quest to Quantify Quantumness](https://www.quantamagazine.org/the-quest-to-quantify-quantumness-20231019/) for Quanta Magazine.\n",
    "\n",
    "**What are some ways in which researchers have attempted to quantify quantumness?**\n",
    "\n",
    "**What are the current findings?  Does the article make any connections with applications, as in which applications might be or might not be good use cases for Quantum Computing?**\n"
   ]
  },
  {
   "cell_type": "markdown",
   "id": "0c6f32ca-c0cb-4836-87d7-d57c94b1ea1d",
   "metadata": {},
   "source": [
    "Answer: (fill-in)"
   ]
  },
  {
   "cell_type": "code",
   "execution_count": null,
   "id": "fc816a88-79db-4da2-9b2f-6df17db974bc",
   "metadata": {},
   "outputs": [],
   "source": []
  }
 ],
 "metadata": {
  "kernelspec": {
   "display_name": "qk102_py312",
   "language": "python",
   "name": "qk102_py312"
  },
  "language_info": {
   "codemirror_mode": {
    "name": "ipython",
    "version": 3
   },
   "file_extension": ".py",
   "mimetype": "text/x-python",
   "name": "python",
   "nbconvert_exporter": "python",
   "pygments_lexer": "ipython3",
   "version": "3.12.3"
  }
 },
 "nbformat": 4,
 "nbformat_minor": 5
}
