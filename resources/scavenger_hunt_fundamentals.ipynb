{
 "cells": [
  {
   "cell_type": "markdown",
   "id": "544a0294-00e2-4565-93ab-f6ec7477e3e3",
   "metadata": {},
   "source": [
    "# Scavenger Hunt - Fundamentals (hw, sw, algs)\n",
    "\n",
    "**Note:** for the questions below, you can hunt for the answers in the links embedded in the questions, by looking through the information on the QFundamentals tab, or by using your favorite search engine.  You can add your answers to this Jupyter notebook using Markdown in the answer cells, or you can create a separate document with your answers, whatever you find easiest.  "
   ]
  },
  {
   "cell_type": "markdown",
   "id": "81a8352a-590a-4a6c-9722-29a86a9820b1",
   "metadata": {},
   "source": [
    "#### 1. Resource Estimation / Overhead Cost of Fault-Tolerance - a Back of the Napkin Calculation:\n",
    "In a Dec 2023 [presentation at the Q2B conference](https://www.youtube.com/watch?v=aq6F5c9rTLc), John Preskill provided the following formulas to estimate the number of physical qubits required to do a quantum simulation requiring 1000 logical qubits and 100 million time steps:\n",
    "\n",
    "(1) Probability of a logical error per timestep per qubit = 10**-11 = c*(2QB gate error rate/threshold)**(d+1)/2\n",
    "\n",
    "(2) Assume we're using the Surface Code for error correction, in which case: <br>\n",
    "c = .1, threshold = .01, distance d = sqrt(n), where n is the number of physical qubits.<br>\n",
    "\n",
    "**Number of physical qubits needed:** (going through the computation)\n",
    "1. solve (1) for d, assuming 2QB gate error of .001 (i.e. 99.9% gate fidelity) and using the values in (2), to get a distance of d = 19\n",
    "2. solve (2) for n, to get 361 of physical qubits per logical qubit\n",
    "3. we need 361 physical qubits for the computation and the same number of ancilla qubits for the error syndrome measurement\n",
    "4. so, in total we need: 2 x 361 physical qubits per logical qubit x 1000 logical qubits = 722,000 physical qubits. \n",
    "\n",
    "**What if we can reduce the 2QB gate error from .001 to .0001 (i.e. 99.99% gate fidelity), how many total physical qubits would we need?**\n",
    "\n",
    "Note: the answer is given in the video roughly, but you can also go through the math above.  You should get a distance of 9 for this case.\n",
    "\n",
    "**What if we can use a code other than the surface code, one that requires a factor of ten fewer qubits per logical qubit, so say 36 physical qubits instead of 361.  How many total qubits would we need in this case?**\n"
   ]
  },
  {
   "cell_type": "markdown",
   "id": "fc6e7497-87ef-4fe1-8293-fb207977fe7c",
   "metadata": {},
   "source": [
    "| prob logical error per timestep per qubit   | 2QB gate error    | QEC code                   | number of physical qubits required\n",
    "| ------------------------------------------- | ----------------- | ---------------------------| ------------------------------------\n",
    "| 10**-11                                     | .001 (99.9% fid)  | surface code, distance 19  | 722,000\n",
    "| 10**-11                                     | .0001 (99.99% fid)| surface code, distance 9   | (fill-in)\n",
    "| 10**-11                                     | .001              | 10x more efficient code    | (fill-in)"
   ]
  },
  {
   "cell_type": "markdown",
   "id": "5ad5722c-f714-4597-926b-e82ce69f0d9f",
   "metadata": {},
   "source": [
    "#### 2. Quantum Implementation Roadmap with Arrival of Quantum Error Correction: Back of the Napkin Calculation\n",
    "\n",
    "Q-Ctrl outlined a hypothetical example in [article posted on their website](https://q-ctrl.com/topics/building-a-quantum-implementation-roadmap-with-the-arrival-of-quantum-error-correction) and also published in the Quantum Computing Report. \n",
    "\n",
    "**Suppose you have to decide to use bare unencoded qubits with error suppression and error mitigation or to use qubits with QEC added in.**\n",
    "\n",
    "Assumptions:\n",
    "1. we have 200 physical qubits, and each can run 100 gates before failure\n",
    "2. adding error suppression and mitigation to the above system, each qubit can now run 300 gates before failure\n",
    "3. say, using the QEC of the day reduces error rates by 3x, which means we can also run 300 gates before failure\n",
    "4. the QEC overhead is 10 physical qubits per logical qubit, so with QEC we have 20 logical qubits\n",
    "\n",
    "**How do these two sets of qubit systems compare?**\n",
    "\n",
    "We can define logical performance as L = QP, where Q is the number of qubits we have available, and P is the number of gates we can execute before failure.\n",
    "\n",
    "**What if we can reduce the overhead to 5 physical qubits for each logical qubit, and reduce the errors by 10x?**\n",
    "\n",
    "**What if we reduce the overhead to 4 physical qubits for each logical qubit, and reduce the errors by 100x?**"
   ]
  },
  {
   "cell_type": "markdown",
   "id": "486707e9-f4ac-48de-a214-0fd3d0e9d844",
   "metadata": {},
   "source": [
    "| Qubit System                                      | Performance L=QP  | Number of Qubits | Number of gates before error\n",
    "| ------------------------------------------------- | ----------------- | -----------------| ------------------------------\n",
    "| No correction                                     | 200*100 = 20,000  | 200 physical     | 100\n",
    "| Error mit, supr                                   | 200*300 = 60,000  | 200 physical     | 300\n",
    "| QEC, 10:1 physical:logical, 3x error reduction    |  20*300 = 6,000   | 20 logical       | 300\n",
    "| QEC, 5:1 physical:logical, 10x error reduction    | (fill-in)         | 40 logical       | 1000\n",
    "| QEC, 4:1 physical:logical, 100x error reduction   | (fill-in)         | 50 logical       | 10000"
   ]
  },
  {
   "cell_type": "markdown",
   "id": "02a75931-3e8c-4431-aaea-f562aaa10bf2",
   "metadata": {},
   "source": [
    "#### 3. Comparing QEC codes: surface code vs. qLDPC code \n",
    "Abby Mitchell from IBM Quantum interviews the IBM authors of a Nature paper, [High-threshold and low-overhead fault-tolerant quantum memory](https://www.nature.com/articles/s41586-024-07107-7) in this video:\n",
    "\n",
    "[Can We Scale Error Correction in Quantum Computing?](https://www.youtube.com/watch?v=9JM8nw6Mclc) \n",
    "\n",
    "**In the video, or from the paper, how much reduction in overhead do the authors report for using quantum LDPC codes vs. the surface code?**"
   ]
  },
  {
   "cell_type": "markdown",
   "id": "9df6f6ee-a05c-453d-b335-81474273a50a",
   "metadata": {},
   "source": [
    "Answer: (fill-in)"
   ]
  },
  {
   "cell_type": "markdown",
   "id": "75af6001-d782-429c-a2e1-e4c7866c11f0",
   "metadata": {},
   "source": [
    "#### 4. SciRate search for Generative Quantum Eigensolver (GQE)\n",
    "\n",
    "**SciRate** is a collaborative platform for open science that allows users to comment on and vote for papers from arXiv. The platform's goals are to:\n",
    "1. Encourage communication between the general public and researchers\n",
    "2. Create a network of people who discuss and evaluate papers\n",
    "\n",
    "Earlier this year, Alan Aspuru-Guzik [described the Generative Quantum Eigensolver (GQE) as the next big enchilada, at NVIDIA's GTC live](https://www.nvidia.com/en-us/on-demand/session/gtc24-ep64025/?playlistId=playList-d63e5c44-196c-4246-bdca-d2a7bd2e00c1).\n",
    "\n",
    "In the video Aspuru-Guzik encourages others to try out the method themselves.  \n",
    "\n",
    "**Can you find any papers on [SciRate](https://scirate.com/), or elsewhere, of other authors trying this out?**  \n",
    "\n",
    "The paper from Aspuru-Guzik's lab is this one: arXiv:2401.09253v1\n"
   ]
  },
  {
   "cell_type": "markdown",
   "id": "b4dc34ee-64c4-466f-8814-4c85abb29a47",
   "metadata": {},
   "source": [
    "Answer: add a link or links here, if you find any ( I am not aware that there are any )"
   ]
  },
  {
   "cell_type": "markdown",
   "id": "0122f87b-b241-439b-b774-859d56c6fce2",
   "metadata": {},
   "source": [
    "#### 5. The Quantum Algorithm Zoo\n",
    "\n",
    "The first algorithm listed in the [Quantum Algorithm Zoo](https://quantumalgorithmzoo.org/) is the factoring algorithm.\n",
    "\n",
    "**The \"speedup\" is listed as \"Superpolynomial\".  We always hear that Shor's factoring algorithm gives an exponential speedup.  What is the difference between \"superpolynomial\" and \"exponential\", and why do we see \"superpolynomial\" here?**\n",
    "\n",
    "**Is the Quantum Phase Estimation algorithm in the Zoo?  If so, under what category?  If not, why isn't it in the Zoo?**\n",
    "\n"
   ]
  },
  {
   "cell_type": "markdown",
   "id": "a4f5e995-fdf7-433c-a95b-b0649f6c90c2",
   "metadata": {},
   "source": [
    "Answer: (fill-in)"
   ]
  },
  {
   "cell_type": "markdown",
   "id": "23be4ac3-cdb5-4a53-af7f-6fbaaeb7fd47",
   "metadata": {},
   "source": [
    "#### 6. Building Blocks of Quantum Algorithms\n",
    "\n",
    "In Vol 3 of Olivier Ezratty's book, [Understanding Quantum Technologies](https://www.oezratty.net/wordpress/2024/understanding-quantum-technologies-2024/), in Fig. 662, the figure shows algorithm components.\n",
    "\n",
    "\"Figure 662: a simplified quantum algorithms inventory with problems (top), key algorithms (middle) and basic algorithm components (bottom). The\n",
    "color code is red for FTQC problems/algorithms relying on the QFT (quantum Fourier transform) and/or modular exponentiation, blue for\n",
    "problems/algorithms corresponding to other gate-based algorithms that may work in NISQ QPUs and green for problems/algorithms related to\n",
    "analog quantum computing paradigms like quantum annealing (ala D-Wave) and quantum simulations (ala Pasqal). Many high-level problems can\n",
    "be solved using an FTQC QFT based version and some analog equivalents, usually based on a QUBO or Ising problem formulation.\n",
    "(cc) Olivier Ezratty, 2023-2024, initially inspired by a schema found on Quantum Computing Algorithms by Andreas Baertschi, 2019 (45 slides).\"\n",
    "\n",
    "**Which components from the Quantum Toolbox are used for Shor's Factoring algorithm?**\n",
    "\n",
    "For example, is Phase Kickback used in Shor's Factoring algorithm?  What about the Quantum Fourier Transform?  Quantum Phase Estimation?  Quantum Teleportation?  \n",
    "\n",
    "**Which algorithms use the Quantum Fourier Transform as a component?**\n",
    "\n",
    "Note: you can download Ezratty's book for free.  \n"
   ]
  },
  {
   "cell_type": "markdown",
   "id": "125a8d0b-8636-4fbd-8608-354446321da6",
   "metadata": {},
   "source": [
    "Answer: (fill-in)"
   ]
  },
  {
   "cell_type": "markdown",
   "id": "0c23b79d-b492-4b49-87d6-eb83b88d308c",
   "metadata": {},
   "source": [
    "#### 7. Quantum Hardware - Qubit Types\n",
    "\n",
    "According to Google AI: \n",
    "\n",
    "\"Silicon Quantum Computing uses spin qubits, which are created using a single electron in the form of quantum dots (QDs) in silicon architecture. These devices are controlled electronically and can take advantage of the established silicon computer infrastructure.\n",
    "\n",
    "**What type of qubits does QuEra use?  What about IBM?  What about IONQ and Quantinuum?  What about Xanadu?  What about Intel? What about Photonic?**\n"
   ]
  },
  {
   "cell_type": "markdown",
   "id": "9e7cef29-fa6e-4f76-b4e1-f6512f1b4189",
   "metadata": {},
   "source": [
    "| Company                      | Qubit Type                                                          | Control\n",
    "| -----------------------------| --------------------------------------------------------------------| -----------------------\n",
    "| Silicon Quantum Computing    | spin qubits, single electron, quantum dots, in silicon architecture | electronically\n",
    "| Xanadu                       | (fill-in)                                                           | (fill-in)\n",
    "| IBM                          | superconducting qubits                                              | microwaves\n",
    "| IONQ                         | trapped ions                                                        | lasers\n",
    "| Quantinuum                   | (fill-in)                                                           | (fill-in)\n",
    "| QuEra                        | (fill-in)                                                           | (fill-in)\n",
    "| Intel                        | (fill-in)                                                           | (fill-in)\n",
    "| Photonic                     | (fill-in)                                                           | (fill-in)"
   ]
  },
  {
   "cell_type": "markdown",
   "id": "1075bc68-0eff-4c55-9082-b0c1a574c181",
   "metadata": {},
   "source": [
    "#### 8. Quantum Hardware - Roadmaps\n",
    "\n",
    "**What do the Roadmaps look like for the various types of qubits?  Complete whatever you can find.**\n",
    "\n"
   ]
  },
  {
   "cell_type": "markdown",
   "id": "76c8cfe1-a568-423f-8eec-d06c54900c83",
   "metadata": {},
   "source": [
    "| Company                      |  Number of Logical Qubits/Physical Qubits (year)           \n",
    "| -----------------------------| ------------------------------------------------------------------------\n",
    "| Silicon Quantum Computing    |                                                                      \n",
    "| Xanadu                       |                                                            \n",
    "| IBM                          |                                               \n",
    "| IONQ                         |                                                          \n",
    "| Quantinuum                   |                                                             \n",
    "| QuEra                        | 10/256 ('24), 30/3000 ('25), 100/10000 ('26)                                                           \n",
    "| Intel                        |                                                             \n",
    "| Photonic                     |                                                             "
   ]
  },
  {
   "cell_type": "markdown",
   "id": "36ff622c-97e7-4a16-9e72-e86e2cb0e576",
   "metadata": {},
   "source": [
    "#### 9. Are cat codes important in quantum computing?\n",
    "\n",
    "**What are cat codes?  Cat qubits?  Are they used in practice today?**\n",
    "\n",
    "Here's what [Alice & Bob say in a video on their YouTube Channel](https://www.youtube.com/watch?v=nI0Yg-QRAns).\n"
   ]
  },
  {
   "cell_type": "markdown",
   "id": "504da47a-1608-495f-85de-4a36c1a3a32e",
   "metadata": {},
   "source": [
    "Answer: (fill-in)"
   ]
  },
  {
   "cell_type": "markdown",
   "id": "936e5e98-5a8d-4c50-93af-607f031649d7",
   "metadata": {},
   "source": [
    "#### 10. What is the difference between Error Mitigation, Error Suppression, and Error Correction?  \n",
    "\n",
    "Explain the difference between these terms.  Can these be used in combination?  Is it possible or does it make sense to use all three at once?"
   ]
  },
  {
   "cell_type": "markdown",
   "id": "03150af9-741a-494d-a7c2-7c6ea33d328c",
   "metadata": {},
   "source": [
    "Answer: (fill-in)"
   ]
  }
 ],
 "metadata": {
  "kernelspec": {
   "display_name": "qk102_py312",
   "language": "python",
   "name": "qk102_py312"
  },
  "language_info": {
   "codemirror_mode": {
    "name": "ipython",
    "version": 3
   },
   "file_extension": ".py",
   "mimetype": "text/x-python",
   "name": "python",
   "nbconvert_exporter": "python",
   "pygments_lexer": "ipython3",
   "version": "3.12.3"
  }
 },
 "nbformat": 4,
 "nbformat_minor": 5
}
